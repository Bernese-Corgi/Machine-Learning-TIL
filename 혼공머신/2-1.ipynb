{
 "cells": [
  {
   "attachments": {},
   "cell_type": "markdown",
   "metadata": {},
   "source": [
    "# 훈련 세트와 테스트 세트\n",
    "\n",
    "## 용어\n",
    "\n",
    "- 입력(input) : 데이터\n",
    "- 타겟(target) : 정답\n",
    "- 훈련 데이터 : 입력과 타겟을 합쳐 훈련 데이터라 한다.\n",
    "\n",
    "## 지도 학습, 비지도 학습\n",
    "\n",
    "<span style=\"\">지도 학습</span>\n",
    "\n",
    "- 훈련하기 위해 데이터와 정답으로 이루어진 훈련 데이터가 필요하다.\n",
    "- 정답(타겟)이 있음 -> 알고리즘이 정답을 맞히는 것을 학습한다.\n",
    "\n",
    "<span style=\"\">비지도 학습</span>\n",
    "\n",
    "- 타겟 없이 입력 데이터만 이용 (입력 데이터만 있을 때는 비지도 학습 알고리즘을 사용)\n",
    "- 정답을 사용하지 않음 -> 무언가를 맞힐 수 없다."
   ]
  },
  {
   "cell_type": "code",
   "execution_count": null,
   "metadata": {},
   "outputs": [],
   "source": []
  }
 ],
 "metadata": {
  "language_info": {
   "name": "python"
  },
  "orig_nbformat": 4
 },
 "nbformat": 4,
 "nbformat_minor": 2
}
